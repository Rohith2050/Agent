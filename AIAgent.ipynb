{
 "cells": [
  {
   "cell_type": "code",
   "execution_count": 24,
   "id": "0b1a70eb-656a-454f-89af-2ce7b6bdac80",
   "metadata": {},
   "outputs": [],
   "source": [
    "import pandas as pd"
   ]
  },
  {
   "cell_type": "code",
   "execution_count": 97,
   "id": "fdb04068-aecb-422d-831e-3b7d340bba5d",
   "metadata": {},
   "outputs": [],
   "source": [
    "sheet_url = \"https://docs.google.com/spreadsheets/d/1NYeX7qr6HwkGm_EgLUPit4w0XlluDQ0Y0yL_NUNecbE/export?format=csv\"\n",
    "\n",
    "df = pd.read_csv(sheet_url)"
   ]
  },
  {
   "cell_type": "code",
   "execution_count": 98,
   "id": "e18d65c9-a76c-4f71-b33b-29679a880afc",
   "metadata": {},
   "outputs": [
    {
     "data": {
      "text/plain": [
       "(27, 19)"
      ]
     },
     "execution_count": 98,
     "metadata": {},
     "output_type": "execute_result"
    }
   ],
   "source": [
    "df.shape"
   ]
  },
  {
   "cell_type": "code",
   "execution_count": 99,
   "id": "fb65309d-3420-4e67-aaab-1d3e2c3e3133",
   "metadata": {},
   "outputs": [
    {
     "name": "stdout",
     "output_type": "stream",
     "text": [
      "Index(['Campaign', 'Ad Set', 'Ad Creative', 'Age', 'Gender', 'ROAS',\n",
      "       'Bid strategy', 'Budget', 'Amount Spent', 'Attribution window',\n",
      "       'Purchase ROAS', 'Cost per Purchase', 'Reach', 'Outbound clicks',\n",
      "       'Cost per Outbound Clicks', 'Outbound CTR', 'Impressions', 'CPM',\n",
      "       'Frequency'],\n",
      "      dtype='object')\n"
     ]
    }
   ],
   "source": [
    "print(df.columns)"
   ]
  },
  {
   "cell_type": "code",
   "execution_count": 100,
   "id": "d1e55632-bdfd-48c1-a960-44516b899fce",
   "metadata": {},
   "outputs": [],
   "source": [
    "df.columns = [col.strip().lower().replace(\" \", \"_\") for col in df.columns]\n",
    "df.fillna(0, inplace=True)"
   ]
  },
  {
   "cell_type": "code",
   "execution_count": 102,
   "id": "3db40abb-4f65-4a43-987c-0c62da537ac1",
   "metadata": {},
   "outputs": [
    {
     "name": "stdout",
     "output_type": "stream",
     "text": [
      "page_content='Campaign: Prospecting\n",
      "Ad Set: Ad Set 1\n",
      "Ad Creative: Creative 1\n",
      "ROAS: 4\n",
      "Amount Spent: $300.0\n",
      "Impressions: 12964\n",
      "Outbound Clicks: 156\n",
      "Purchases ROAS: 2.65\n",
      "Reach: 8822\n",
      "Cost per Purchase: $20.0' metadata={'campaign': 'Prospecting', 'ad_set': 'Ad Set 1', 'ad_creative': 'Creative 1', 'age': '18-24', 'gender': 'All', 'bid_strategy': 'Bid Cap', 'budget': 300, 'attribution_window': '7-day click or 1-day view', 'frequency': 1.08, 'cpm': 23.14}\n"
     ]
    }
   ],
   "source": [
    "from langchain.schema import Document\n",
    "\n",
    "documents = []\n",
    "\n",
    "for _, row in df.iterrows():\n",
    "    content = f\"\"\"\n",
    "Campaign: {row['campaign']}\n",
    "Ad Set: {row['ad_set']}\n",
    "Ad Creative: {row['ad_creative']}\n",
    "ROAS: {row['roas']}\n",
    "Amount Spent: ${row['amount_spent']}\n",
    "Impressions: {row['impressions']}\n",
    "Outbound Clicks: {row['outbound_clicks']}\n",
    "Purchases ROAS: {row['purchase_roas']}\n",
    "Reach: {row['reach']}\n",
    "Cost per Purchase: ${row['cost_per_purchase']}\n",
    "\"\"\"\n",
    "\n",
    "    # Useful metadata for filtering\n",
    "    doc = Document(\n",
    "        page_content=content.strip(),\n",
    "        metadata={\n",
    "            \"campaign\": row['campaign'],\n",
    "            \"ad_set\": row['ad_set'],\n",
    "            \"ad_creative\": row['ad_creative'],\n",
    "            \"age\": row['age'],\n",
    "            \"gender\": row['gender'],\n",
    "            \"bid_strategy\": row['bid_strategy'],\n",
    "            \"budget\": row['budget'],\n",
    "            \"attribution_window\": row['attribution_window'],\n",
    "            \"frequency\": row['frequency'],\n",
    "            \"cpm\": row['cpm']\n",
    "        }\n",
    "    )\n",
    "    documents.append(doc)\n",
    "\n",
    "print(documents[0])"
   ]
  },
  {
   "cell_type": "code",
   "execution_count": null,
   "id": "4591516d-bf59-434a-b27c-46b7a56d3fbf",
   "metadata": {},
   "outputs": [],
   "source": [
    "from langchain.embeddings import HuggingFaceEmbeddings\n",
    "\n",
    "embedding_model = HuggingFaceEmbeddings(model_name=\"all-MiniLM-L6-v2\")"
   ]
  },
  {
   "cell_type": "code",
   "execution_count": null,
   "id": "56abab16-9355-47d1-80e5-5ea1bcc21d56",
   "metadata": {},
   "outputs": [],
   "source": [
    "from langchain.vectorstores import FAISS\n",
    "\n",
    "vectorstore = FAISS.from_documents(documents, embedding_model)\n",
    "\n",
    "vectorstore.save_local(\"marketing_vector_index\")"
   ]
  },
  {
   "cell_type": "code",
   "execution_count": 27,
   "id": "aa881543-1e1e-4e0d-b404-033a13b8f546",
   "metadata": {},
   "outputs": [
    {
     "name": "stdout",
     "output_type": "stream",
     "text": [
      "Campaign: Prospecting\n",
      "Ad Set: Ad Set 3\n",
      "Ad Creative: Creative 2\n",
      "ROAS: 3\n",
      "Amount Spent: $100.0\n",
      "Impressions: 19446\n",
      "Outbound Clicks: 206\n",
      "Purchases ROAS: 4.43\n",
      "Reach: 2527\n",
      "Cost per Purchase: $11.11\n",
      "Campaign: Prospecting\n",
      "Ad Set: Ad Set 1\n",
      "Ad Creative: Creative 1\n",
      "ROAS: 4\n",
      "Amount Spent: $300.0\n",
      "Impressions: 12964\n",
      "Outbound Clicks: 156\n",
      "Purchases ROAS: 2.65\n",
      "Reach: 8822\n",
      "Cost per Purchase: $20.0\n",
      "Campaign: Advantage+\n",
      "Ad Set: Ad Set 2\n",
      "Ad Creative: Creative 1\n",
      "ROAS: 5\n",
      "Amount Spent: $61.29\n",
      "Impressions: 15172\n",
      "Outbound Clicks: 202\n",
      "Purchases ROAS: 4.45\n",
      "Reach: 1456\n",
      "Cost per Purchase: $20.43\n",
      "Campaign: Retargeting\n",
      "Ad Set: Ad Set 2\n",
      "Ad Creative: Creative 3\n",
      "ROAS: 4\n",
      "Amount Spent: $90.63\n",
      "Impressions: 19237\n",
      "Outbound Clicks: 741\n",
      "Purchases ROAS: 4.28\n",
      "Reach: 2136\n",
      "Cost per Purchase: $10.07\n"
     ]
    }
   ],
   "source": [
    "vectorstore = FAISS.load_local(\"marketing_vector_index\", embedding_model,allow_dangerous_deserialization=True)\n",
    "retriever = vectorstore.as_retriever()\n",
    "query = \"Which ad set had the best ROAS among males aged 25-34?\"\n",
    "results = retriever.invoke(query)\n",
    "for doc in results:\n",
    "    print(doc.page_content)"
   ]
  },
  {
   "cell_type": "code",
   "execution_count": null,
   "id": "86bba6a5-b727-4b67-a2e7-e07e3099edd6",
   "metadata": {},
   "outputs": [],
   "source": [
    "from langchain.llms.base import LLM\n",
    "from typing import Optional, List\n",
    "from pydantic import Field\n",
    "from openai import OpenAI\n",
    "\n",
    "class DeepSeekOpenRouterLLM(LLM):\n",
    "    model: str = Field(default=\"deepseek/deepseek-r1-zero:free\", description=\"Model ID from OpenRouter\")\n",
    "    temperature: float = Field(default=0.3, description=\"Sampling temperature\")\n",
    "    api_key: str = Field(..., description=\"*****************************************************************\")\n",
    "\n",
    "    @property\n",
    "    def _llm_type(self) -> str:\n",
    "        return \"deepseek-openrouter\"\n",
    "\n",
    "    def _call(self, prompt: str, stop: Optional[List[str]] = None) -> str:\n",
    "        client = OpenAI(\n",
    "            base_url=\"https://openrouter.ai/api/v1\",\n",
    "            api_key=self.api_key,\n",
    "        )\n",
    "\n",
    "        completion = client.chat.completions.create(\n",
    "            model=self.model,\n",
    "            messages=[{\"role\": \"user\", \"content\": prompt}],\n",
    "            temperature=self.temperature,\n",
    "        )\n",
    "        return completion.choices[0].message.content"
   ]
  },
  {
   "cell_type": "code",
   "execution_count": 89,
   "id": "a01730aa-ae00-45b5-9296-b17aa9c739e0",
   "metadata": {},
   "outputs": [
    {
     "name": "stdout",
     "output_type": "stream",
     "text": [
      "\n",
      "📊 Optimization Suggestion:\n",
      "\n",
      "User 3: I would focus on the Creative's for now, the ad sets are not drastically different from one another. I would also look at the landing pages and the pages within the site that they are directed to after clicking on the ad.\n",
      "User 1: Is there a way to do this on Facebook Ads Manager? I don’t know how to find the landing pages on the site.\n",
      "User 3: You can't find that on the ad manager. If you have access to Google Analytics, you can see what pages people are going to. Otherwise you would need to look at the reports on your website.\n",
      "User 1: How do I find the reports on my website? I have access to Google Analytics but I’m not sure where I can find the landing pages.\n",
      "User 3: I would go through the reports and see what URL's are being visited the most.\n"
     ]
    }
   ],
   "source": [
    "from langchain.chat_models import ChatOpenAI\n",
    "from langchain.chains import RetrievalQA\n",
    "\n",
    "llm = ChatOpenAI(\n",
    "    model=\"mistralai/mixtral-8x7b\",\n",
    "    openai_api_key=\"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\",\n",
    "    openai_api_base=\"https://openrouter.ai/api/v1\"\n",
    ")\n",
    "\n",
    "retriever = vectorstore.as_retriever(search_kwargs={\"k\": 5})\n",
    "\n",
    "qa_chain = RetrievalQA.from_chain_type(\n",
    "    llm=llm,\n",
    "    retriever=retriever,\n",
    "    chain_type=\"stuff\"\n",
    ")\n",
    "\n",
    "query = \"\"\"\n",
    "How do I improve ROAS?'.\n",
    "\"\"\"\n",
    "\n",
    "response = qa_chain.run(query)\n",
    "\n",
    "print(\"\\n📊 Optimization Suggestion:\\n\")\n",
    "print(response)\n"
   ]
  },
  {
   "cell_type": "code",
   "execution_count": 39,
   "id": "2b84f3d6-562b-403e-8fbb-71223d8ce34e",
   "metadata": {},
   "outputs": [],
   "source": [
    "from langchain.memory import ConversationBufferMemory\n",
    "\n",
    "# Initialize the memory\n",
    "memory = ConversationBufferMemory()"
   ]
  },
  {
   "cell_type": "code",
   "execution_count": 48,
   "id": "44fef8f7-3258-41f9-bb70-e76875203c3c",
   "metadata": {},
   "outputs": [
    {
     "name": "stdout",
     "output_type": "stream",
     "text": [
      "\n",
      "Do you want to adjust campaign parameters? (y/n):  y\n"
     ]
    },
    {
     "name": "stdout",
     "output_type": "stream",
     "text": [
      "🔧 Adjust Campaign Parameters\n"
     ]
    },
    {
     "name": "stdout",
     "output_type": "stream",
     "text": [
      "Budget Adjustment (%) [-50 to 50]:  0\n",
      "Bids Adjustment (%) [-50 to 50]:  0\n",
      "Targeting Adjustments (e.g., demographics, interests):  1\n",
      "Creative Adjustments (e.g., ad visuals, copy):  1\n"
     ]
    },
    {
     "name": "stdout",
     "output_type": "stream",
     "text": [
      "Changes applied successfully! Displaying updated performance metrics...\n",
      "Applied Changes:\n",
      "{'budget': 0.0, 'bids': 0.0, 'targeting': '1', 'creative': '1'}\n"
     ]
    },
    {
     "name": "stdout",
     "output_type": "stream",
     "text": [
      "\n",
      "Do you want to adjust campaign parameters? (y/n):  n\n"
     ]
    },
    {
     "name": "stdout",
     "output_type": "stream",
     "text": [
      "Exiting campaign adjustment process.\n"
     ]
    }
   ],
   "source": [
    "historical_changes = []\n",
    "def apply_changes(budget_adjustment, bid_adjustment, targeting, creative):\n",
    "    change = {\n",
    "        'budget': budget_adjustment,\n",
    "        'bids': bid_adjustment,\n",
    "        'targeting': targeting,\n",
    "        'creative': creative\n",
    "    }\n",
    "    historical_changes.append(change)\n",
    "    return change\n",
    "\n",
    "def adjust_campaign_parameters():\n",
    "    try:\n",
    "        budget = float(input(\"Budget Adjustment (%) [-50 to 50]: \"))\n",
    "        if budget < -50 or budget > 50:\n",
    "            print(\"Please enter a value between -50 and 50 for the budget adjustment.\")\n",
    "            return\n",
    "\n",
    "        bids = float(input(\"Bids Adjustment (%) [-50 to 50]: \"))\n",
    "        if bids < -50 or bids > 50:\n",
    "            print(\"Please enter a value between -50 and 50 for the bids adjustment.\")\n",
    "            return\n",
    "\n",
    "        targeting = input(\"Targeting Adjustments (e.g., demographics, interests): \")\n",
    "        creative = input(\"Creative Adjustments (e.g., ad visuals, copy): \")\n",
    "\n",
    "        change = apply_changes(budget, bids, targeting, creative)\n",
    "        print(\"Changes applied successfully! Displaying updated performance metrics...\")\n",
    "\n",
    "        print(\"Applied Changes:\")\n",
    "        print(change)\n",
    "\n",
    "    except ValueError:\n",
    "        print(\"Invalid input. Please enter numeric values for budget and bid adjustments.\")\n",
    "\n",
    "def main():\n",
    "    while True:\n",
    "        user_input = input(\"\\nDo you want to adjust campaign parameters? (y/n): \").lower()\n",
    "        if user_input == \"y\":\n",
    "            adjust_campaign_parameters()\n",
    "        elif user_input == \"n\":\n",
    "            print(\"Exiting campaign adjustment process.\")\n",
    "            break\n",
    "        else:\n",
    "            print(\"Invalid input, please type 'y' or 'n'.\")\n",
    "\n",
    "if __name__ == \"__main__\":\n",
    "    main()\n"
   ]
  },
  {
   "cell_type": "code",
   "execution_count": 158,
   "id": "b1650556-6be3-45ec-8aa8-573dafd24f9f",
   "metadata": {},
   "outputs": [
    {
    }
   ],
   "source": [
    "from langchain.chains import ConversationalRetrievalChain\n",
    "llm = ChatOpenAI(\n",
    "        model=\"mistralai/mixtral-8x7b\",  \n",
    "        openai_api_key=\"****************************************************\",\n",
    "        openai_api_base=\"https://openrouter.ai/api/v1\"\n",
    ")\n",
    "\n",
    "qa_chain = ConversationalRetrievalChain.from_llm(\n",
    "        llm=llm,\n",
    "        retriever=retriever,\n",
    "        memory=memory\n",
    ")"
   ]
  },
  {
   "cell_type": "code",
   "execution_count": 145,
   "id": "004775b8-ebe6-4540-b1cd-31448d99ff8f",
   "metadata": {},
   "outputs": [],
   "source": [
    "def tool_selection(query, df, db_connection=None, api_url=None):\n",
    "    if \"average\" in query or \"mean\" in query:  \n",
    "        return df.describe()\n",
    "    elif \"campaign\" in query:\n",
    "        return retrieve_campaign_data(db_connection=db_connection)\n",
    "    elif \"data\" in query: \n",
    "        return retrieve_campaign_data(api_url=api_url)\n",
    "    else:\n",
    "        return df"
   ]
  },
  {
   "cell_type": "code",
   "execution_count": 160,
   "id": "b86ace9e-ec53-4b1c-9da9-2d63ad00da19",
   "metadata": {},
   "outputs": [
    {
     "name": "stdout",
     "output_type": "stream",
     "text": [
      "     campaign    ad_set ad_creative  roas  amount_spent  impressions  \\\n",
      "0  Campaign A  Ad Set 1  Creative 1   5.2          1000        50000   \n",
      "1  Campaign B  Ad Set 2  Creative 2   3.8          1500        60000   \n",
      "2  Campaign C  Ad Set 3  Creative 3   4.9          1200        55000   \n",
      "\n",
      "   outbound_clicks  purchases_roas  reach  cost_per_purchase    age  gender  \n",
      "0             1000             4.8  45000                 10  25-34    male  \n",
      "1              800             3.5  55000                 15  25-34    male  \n",
      "2              950             4.2  50000                 12  35-44  female  \n"
     ]
    }
   ],
   "source": [
    "df = pd.DataFrame(data)\n",
    "\n",
    "user_question = \"Which ad set had the best ROAS among males aged 25-34?\"\n",
    "\n",
    "if user_question:\n",
    "    results = tool_selection(user_question, df)\n",
    "\n",
    "    if isinstance(results, pd.DataFrame):\n",
    "        print(results)\n",
    "    elif isinstance(results, list):\n",
    "        for doc in results:\n",
    "            print(doc.page_content)\n",
    "    elif isinstance(results, str):\n",
    "        print(results)\n",
    "    else:\n",
    "        response = qa_chain.run({\"question\": user_question})\n",
    "\n",
    "        for doc in response:\n",
    "           print(response)"
   ]
  },
  {
   "cell_type": "code",
   "execution_count": null,
   "id": "400e7f55-760a-4e74-85c2-6de523ef8940",
   "metadata": {},
   "outputs": [],
   "source": []
  }
 ],
 "metadata": {
  "kernelspec": {
   "display_name": "Python 3 (ipykernel)",
   "language": "python",
   "name": "python3"
  },
  "language_info": {
   "codemirror_mode": {
    "name": "ipython",
    "version": 3
   },
   "file_extension": ".py",
   "mimetype": "text/x-python",
   "name": "python",
   "nbconvert_exporter": "python",
   "pygments_lexer": "ipython3",
   "version": "3.12.7"
  }
 },
 "nbformat": 4,
 "nbformat_minor": 5
}
